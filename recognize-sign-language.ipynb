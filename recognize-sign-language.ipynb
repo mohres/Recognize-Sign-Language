{
 "cells": [
  {
   "cell_type": "code",
   "execution_count": 2,
   "metadata": {
    "colab": {},
    "colab_type": "code",
    "id": "wYtuKeK0dImp"
   },
   "outputs": [],
   "source": [
    "import csv\n",
    "import numpy as np\n",
    "import tensorflow as tf\n",
    "from tensorflow.keras.preprocessing.image import ImageDataGenerator"
   ]
  },
  {
   "cell_type": "markdown",
   "metadata": {
    "colab_type": "text",
    "id": "EmMyh9_mkDHF"
   },
   "source": [
    "The data for this exercise is available at: https://www.kaggle.com/datamunge/sign-language-mnist/home\n",
    "\n",
    "Sign up and download to find 2 CSV files: sign_mnist_test.csv and sign_mnist_train.csv -- You will upload both of them using this button before you can continue.\n"
   ]
  },
  {
   "cell_type": "code",
   "execution_count": 3,
   "metadata": {
    "colab": {
     "base_uri": "https://localhost:8080/",
     "height": 85
    },
    "colab_type": "code",
    "id": "4kxw-_rmcnVu",
    "outputId": "03258489-b12d-4585-8127-8ea82ea47b6e"
   },
   "outputs": [
    {
     "name": "stdout",
     "output_type": "stream",
     "text": [
      "(27455, 28, 28)\n",
      "(27455,)\n",
      "(7172, 28, 28)\n",
      "(7172,)\n"
     ]
    }
   ],
   "source": [
    "def get_data(filename):\n",
    "    with open(filename) as training_file:\n",
    "        csv_reader = csv.reader(training_file, delimiter=',')\n",
    "        first_line = True\n",
    "        temp_images = []\n",
    "        temp_labels = []\n",
    "        for row in csv_reader:\n",
    "            if first_line:\n",
    "                # print(\"Ignoring first line\")\n",
    "                first_line = False\n",
    "            else:\n",
    "                temp_labels.append(row[0])\n",
    "                image_data = row[1:785]\n",
    "                image_data_as_array = np.array_split(image_data, 28)\n",
    "                temp_images.append(image_data_as_array)\n",
    "        images = np.array(temp_images).astype('float')\n",
    "        labels = np.array(temp_labels).astype('float')\n",
    "    return images, labels\n",
    "\n",
    "\n",
    "training_images, training_labels = get_data('sign-language-mnist/sign_mnist_train.csv')\n",
    "testing_images, testing_labels = get_data('sign-language-mnist/sign_mnist_test.csv')\n",
    "\n",
    "print(training_images.shape)\n",
    "print(training_labels.shape)\n",
    "print(testing_images.shape)\n",
    "print(testing_labels.shape)\n"
   ]
  },
  {
   "cell_type": "code",
   "execution_count": 4,
   "metadata": {
    "colab": {
     "base_uri": "https://localhost:8080/",
     "height": 51
    },
    "colab_type": "code",
    "id": "awoqRpyZdQkD",
    "outputId": "8bfe7360-e267-4bd9-9d64-5ef452b6dafb"
   },
   "outputs": [
    {
     "name": "stdout",
     "output_type": "stream",
     "text": [
      "(27455, 28, 28, 1)\n",
      "(7172, 28, 28, 1)\n"
     ]
    }
   ],
   "source": [
    "training_images = np.expand_dims(training_images, axis=3)\n",
    "testing_images = np.expand_dims(testing_images, axis=3)\n",
    "\n",
    "train_datagen = ImageDataGenerator(\n",
    "    rescale=1. / 255,\n",
    "    rotation_range=40,\n",
    "    width_shift_range=0.2,\n",
    "    height_shift_range=0.2,\n",
    "    shear_range=0.2,\n",
    "    zoom_range=0.2,\n",
    "    horizontal_flip=True,\n",
    "    fill_mode='nearest')\n",
    "\n",
    "validation_datagen = ImageDataGenerator(\n",
    "    rescale=1. / 255)\n",
    "\n",
    "print(training_images.shape)\n",
    "print(testing_images.shape)"
   ]
  },
  {
   "cell_type": "code",
   "execution_count": 0,
   "metadata": {
    "colab": {},
    "colab_type": "code",
    "id": "Rmb7S32cgRqS"
   },
   "outputs": [],
   "source": [
    "model = tf.keras.models.Sequential([\n",
    "    tf.keras.layers.Conv2D(64, (3, 3), activation='relu', input_shape=(28, 28, 1)),\n",
    "    tf.keras.layers.MaxPooling2D(2, 2),\n",
    "    tf.keras.layers.Conv2D(64, (3, 3), activation='relu'),\n",
    "    tf.keras.layers.MaxPooling2D(2, 2),\n",
    "    tf.keras.layers.Flatten(),\n",
    "    tf.keras.layers.Dense(128, activation=tf.nn.relu),\n",
    "    tf.keras.layers.Dense(26, activation=tf.nn.softmax)])"
   ]
  },
  {
   "cell_type": "code",
   "execution_count": 0,
   "metadata": {
    "colab": {
     "base_uri": "https://localhost:8080/",
     "height": 391
    },
    "colab_type": "code",
    "id": "8-FzXnymLfZl",
    "outputId": "88fc5230-9891-461d-e892-d728a49ceafc"
   },
   "outputs": [
    {
     "name": "stdout",
     "output_type": "stream",
     "text": [
      "Model: \"sequential_1\"\n",
      "_________________________________________________________________\n",
      "Layer (type)                 Output Shape              Param #   \n",
      "=================================================================\n",
      "conv2d_2 (Conv2D)            (None, 26, 26, 64)        640       \n",
      "_________________________________________________________________\n",
      "max_pooling2d_2 (MaxPooling2 (None, 13, 13, 64)        0         \n",
      "_________________________________________________________________\n",
      "conv2d_3 (Conv2D)            (None, 11, 11, 64)        36928     \n",
      "_________________________________________________________________\n",
      "max_pooling2d_3 (MaxPooling2 (None, 5, 5, 64)          0         \n",
      "_________________________________________________________________\n",
      "flatten_1 (Flatten)          (None, 1600)              0         \n",
      "_________________________________________________________________\n",
      "dense_2 (Dense)              (None, 128)               204928    \n",
      "_________________________________________________________________\n",
      "dense_3 (Dense)              (None, 26)                3354      \n",
      "=================================================================\n",
      "Total params: 245,850\n",
      "Trainable params: 245,850\n",
      "Non-trainable params: 0\n",
      "_________________________________________________________________\n"
     ]
    }
   ],
   "source": [
    "model.summary()"
   ]
  },
  {
   "cell_type": "code",
   "execution_count": 0,
   "metadata": {
    "colab": {
     "base_uri": "https://localhost:8080/",
     "height": 836
    },
    "colab_type": "code",
    "id": "2Z4cfuxPMARK",
    "outputId": "f6a4532a-fb31-462f-a223-8b30ae5acb1d"
   },
   "outputs": [
    {
     "name": "stdout",
     "output_type": "stream",
     "text": [
      "Epoch 1/15\n",
      "855/857 [============================>.] - ETA: 0s - loss: 2.8328 - acc: 0.1446Epoch 1/15\n",
      "858/857 [==============================] - 10s 12ms/step - loss: 2.8310 - acc: 0.1450 - val_loss: 2.1455 - val_acc: 0.3083\n",
      "Epoch 2/15\n",
      "855/857 [============================>.] - ETA: 0s - loss: 2.1273 - acc: 0.3306Epoch 1/15\n",
      "858/857 [==============================] - 10s 11ms/step - loss: 2.1264 - acc: 0.3308 - val_loss: 1.3369 - val_acc: 0.5538\n",
      "Epoch 3/15\n",
      "855/857 [============================>.] - ETA: 0s - loss: 1.7902 - acc: 0.4253Epoch 1/15\n",
      "858/857 [==============================] - 9s 11ms/step - loss: 1.7890 - acc: 0.4256 - val_loss: 1.1187 - val_acc: 0.6223\n",
      "Epoch 4/15\n",
      "853/857 [============================>.] - ETA: 0s - loss: 1.5640 - acc: 0.4963Epoch 1/15\n",
      "858/857 [==============================] - 10s 11ms/step - loss: 1.5630 - acc: 0.4965 - val_loss: 0.9661 - val_acc: 0.6677\n",
      "Epoch 5/15\n",
      "856/857 [============================>.] - ETA: 0s - loss: 1.3960 - acc: 0.5417Epoch 1/15\n",
      "858/857 [==============================] - 10s 11ms/step - loss: 1.3960 - acc: 0.5416 - val_loss: 0.8516 - val_acc: 0.7037\n",
      "Epoch 6/15\n",
      "857/857 [============================>.] - ETA: 0s - loss: 1.2760 - acc: 0.5805Epoch 1/15\n",
      "858/857 [==============================] - 10s 11ms/step - loss: 1.2758 - acc: 0.5805 - val_loss: 0.8253 - val_acc: 0.7255\n",
      "Epoch 7/15\n",
      "853/857 [============================>.] - ETA: 0s - loss: 1.1888 - acc: 0.6057Epoch 1/15\n",
      "858/857 [==============================] - 10s 11ms/step - loss: 1.1885 - acc: 0.6055 - val_loss: 0.6579 - val_acc: 0.7684\n",
      "Epoch 8/15\n",
      "856/857 [============================>.] - ETA: 0s - loss: 1.1078 - acc: 0.6342Epoch 1/15\n",
      "858/857 [==============================] - 10s 11ms/step - loss: 1.1071 - acc: 0.6343 - val_loss: 0.7701 - val_acc: 0.7190\n",
      "Epoch 9/15\n",
      "855/857 [============================>.] - ETA: 0s - loss: 1.0591 - acc: 0.6533Epoch 1/15\n",
      "858/857 [==============================] - 10s 11ms/step - loss: 1.0586 - acc: 0.6535 - val_loss: 0.6698 - val_acc: 0.7648\n",
      "Epoch 10/15\n",
      "853/857 [============================>.] - ETA: 0s - loss: 0.9874 - acc: 0.6735Epoch 1/15\n",
      "858/857 [==============================] - 10s 11ms/step - loss: 0.9872 - acc: 0.6734 - val_loss: 0.6068 - val_acc: 0.8034\n",
      "Epoch 11/15\n",
      "855/857 [============================>.] - ETA: 0s - loss: 0.9440 - acc: 0.6865Epoch 1/15\n",
      "858/857 [==============================] - 10s 11ms/step - loss: 0.9437 - acc: 0.6869 - val_loss: 0.6415 - val_acc: 0.7573\n",
      "Epoch 12/15\n",
      "853/857 [============================>.] - ETA: 0s - loss: 0.8957 - acc: 0.7016Epoch 1/15\n",
      "858/857 [==============================] - 10s 11ms/step - loss: 0.8955 - acc: 0.7016 - val_loss: 0.5202 - val_acc: 0.8143\n",
      "Epoch 13/15\n",
      "855/857 [============================>.] - ETA: 0s - loss: 0.8764 - acc: 0.7090Epoch 1/15\n",
      "858/857 [==============================] - 10s 11ms/step - loss: 0.8768 - acc: 0.7091 - val_loss: 0.5398 - val_acc: 0.8109\n",
      "Epoch 14/15\n",
      "857/857 [============================>.] - ETA: 0s - loss: 0.8242 - acc: 0.7245Epoch 1/15\n",
      "858/857 [==============================] - 10s 11ms/step - loss: 0.8243 - acc: 0.7245 - val_loss: 0.4469 - val_acc: 0.8291\n",
      "Epoch 15/15\n",
      "853/857 [============================>.] - ETA: 0s - loss: 0.8058 - acc: 0.7305Epoch 1/15\n",
      "858/857 [==============================] - 10s 11ms/step - loss: 0.8056 - acc: 0.7307 - val_loss: 0.4778 - val_acc: 0.8309\n",
      "7172/7172 [==============================] - 0s 61us/sample - loss: 406.5866 - acc: 0.4505\n"
     ]
    },
    {
     "data": {
      "text/plain": [
       "[406.5865668803703, 0.45050195]"
      ]
     },
     "execution_count": 19,
     "metadata": {
      "tags": []
     },
     "output_type": "execute_result"
    }
   ],
   "source": [
    "model.compile(optimizer = tf.train.AdamOptimizer(),\n",
    "              loss = 'sparse_categorical_crossentropy',\n",
    "              metrics=['accuracy'])\n",
    "\n",
    "history = model.fit_generator(train_datagen.flow(training_images, training_labels, batch_size=32),\n",
    "                              steps_per_epoch=len(training_images) / 32,\n",
    "                              epochs=15,\n",
    "                              validation_data=validation_datagen.flow(testing_images, testing_labels, batch_size=32),\n",
    "                              validation_steps=len(testing_images) / 32)\n",
    "\n",
    "model.evaluate(testing_images, testing_labels)"
   ]
  },
  {
   "cell_type": "code",
   "execution_count": 0,
   "metadata": {
    "colab": {
     "base_uri": "https://localhost:8080/",
     "height": 545
    },
    "colab_type": "code",
    "id": "_Q3Zpr46dsij",
    "outputId": "5c13c7b9-49b4-481e-e68d-0803eb7ad8f4"
   },
   "outputs": [
    {
     "data": {
      "image/png": "[encoded data removed]",
      "text/plain": [
       "<Figure size 432x288 with 1 Axes>"
      ]
     },
     "metadata": {
      "tags": []
     },
     "output_type": "display_data"
    },
    {
     "data": {
      "image/png": "[encoded data removed]",
      "text/plain": [
       "<Figure size 432x288 with 1 Axes>"
      ]
     },
     "metadata": {
      "tags": []
     },
     "output_type": "display_data"
    }
   ],
   "source": [
    "import matplotlib.pyplot as plt\n",
    "acc = history.history['acc']\n",
    "val_acc = history.history['val_acc']\n",
    "loss = history.history['loss']\n",
    "val_loss = history.history['val_loss']\n",
    "\n",
    "epochs = range(len(acc))\n",
    "\n",
    "plt.plot(epochs, acc, 'r', label='Training accuracy')\n",
    "plt.plot(epochs, val_acc, 'b', label='Validation accuracy')\n",
    "plt.title('Training and validation accuracy')\n",
    "plt.legend()\n",
    "plt.figure()\n",
    "\n",
    "plt.plot(epochs, loss, 'r', label='Training Loss')\n",
    "plt.plot(epochs, val_loss, 'b', label='Validation Loss')\n",
    "plt.title('Training and validation loss')\n",
    "plt.legend()\n",
    "\n",
    "plt.show()"
   ]
  },
  {
   "cell_type": "code",
   "execution_count": 0,
   "metadata": {
    "colab": {},
    "colab_type": "code",
    "id": "kgAkV6UlqTOF"
   },
   "outputs": [],
   "source": []
  }
 ],
 "metadata": {
  "accelerator": "GPU",
  "colab": {
   "name": "Exercise 8 - Answer.ipynb",
   "provenance": []
  },
  "kernelspec": {
   "display_name": "Python 3",
   "language": "python",
   "name": "python3"
  },
  "language_info": {
   "codemirror_mode": {
    "name": "ipython",
    "version": 3
   },
   "file_extension": ".py",
   "mimetype": "text/x-python",
   "name": "python",
   "nbconvert_exporter": "python",
   "pygments_lexer": "ipython3",
   "version": "3.7.2"
  }
 },
 "nbformat": 4,
 "nbformat_minor": 1
}
